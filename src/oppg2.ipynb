{
 "cells": [
  {
   "cell_type": "code",
   "execution_count": 76,
   "metadata": {},
   "outputs": [],
   "source": [
    "import numpy as np\n",
    "import matplotlib.pyplot as plt\n",
    "from matplotlib import animation as animation\n",
    "import SIR"
   ]
  },
  {
   "cell_type": "code",
   "execution_count": 27,
   "metadata": {},
   "outputs": [],
   "source": [
    "import SIR\n",
    "import animate_plot as ap"
   ]
  },
  {
   "cell_type": "markdown",
   "metadata": {},
   "source": [
    "## Functions"
   ]
  },
  {
   "cell_type": "code",
   "execution_count": 28,
   "metadata": {},
   "outputs": [],
   "source": [
    "def plot_state(\n",
    "    x: np.ndarray, y: np.ndarray, sol: np.ndarray, t, i_t: int, save: bool = False\n",
    ") -> None:\n",
    "    titles = [\"Susceptible\", \"Infected\", \"Recovered\"]\n",
    "    cmaps = [\"Blues\", \"Reds\", \"YlGn\"]\n",
    "\n",
    "    plt.rcParams[\"font.size\"] = 12\n",
    "    fig, axs = plt.subplots(\n",
    "        1,\n",
    "        3,\n",
    "        subplot_kw={\"projection\": \"3d\", \"xlabel\": \"x\", \"ylabel\": \"y\"},\n",
    "        figsize=(26, 10),\n",
    "    )\n",
    "    for ax in axs:\n",
    "        ax.set_zlim(0, np.max(sol[i_t]) * 1.02)\n",
    "    for i in range(len(axs)):\n",
    "        axs[i].plot_surface(\n",
    "            x,\n",
    "            y,\n",
    "            sol[i_t, i, :, :],\n",
    "            cmap=cmaps[i],\n",
    "            vmin=np.max(np.min(sol[i_t, i] - 10), 0),\n",
    "        )\n",
    "        axs[i].set_title(titles[i])\n",
    "        axs[i].set_zlabel(titles[i])\n",
    "    fig.suptitle(f\"Plot of the SIR-model at time {t[i_t]:.3f}\", fontsize=16)\n",
    "    fig.tight_layout()\n",
    "    if save:\n",
    "        plt.savefig(f\"./Images/plot-i_t={i_t}.pdf\")\n",
    "    else:\n",
    "        plt.show()"
   ]
  },
  {
   "cell_type": "code",
   "execution_count": 78,
   "metadata": {},
   "outputs": [],
   "source": [
    "def plot_state_2(\n",
    "    x: np.ndarray, y: np.ndarray, sol: np.ndarray, t, i_t: int, save: bool = False\n",
    ") -> None:\n",
    "    titles = [\"Susceptible\", \"Infected\", \"Recovered\"]\n",
    "    cmaps = [\"Blues\", \"Reds\", \"YlGn\"]\n",
    "\n",
    "    for i in range(len(titles)):\n",
    "        fig, ax = plt.subplots(\n",
    "            1, 1, subplot_kw={\"projection\": \"3d\", \"xlabel\": \"x\", \"ylabel\": \"y\"}\n",
    "        )\n",
    "        ax.plot_surface(\n",
    "            x,\n",
    "            y,\n",
    "            sol[i_t, i, :, :],\n",
    "            cmap=cmaps[i],\n",
    "            vmin=np.max(np.min(sol[i_t, i] - 10), 0),\n",
    "        )\n",
    "        ax.set_zlabel(titles[i])\n",
    "        fig.suptitle(rf\"{titles[i]} at time {t[i_t]:.3f}\")\n",
    "        fig.tight_layout()\n",
    "        fig.savefig(f\"./Images/plot-i_t={i_t}-{i}.pdf\")\n",
    "        fig.clear()\n",
    "    return None"
   ]
  },
  {
   "cell_type": "code",
   "execution_count": 105,
   "metadata": {},
   "outputs": [],
   "source": [
    "def plot_state_3(\n",
    "    x: np.ndarray, y: np.ndarray, sol: np.ndarray, t, i_t: int, save: bool = False\n",
    ") -> None:\n",
    "    titles = [\"Susceptible\", \"Infected\", \"Recovered\"]\n",
    "    cmaps = [\"Blues\", \"Reds\", \"YlGn\"]\n",
    "\n",
    "    for i in range(len(titles)):\n",
    "        fig, ax = plt.subplots(\n",
    "            subplot_kw={\"xlabel\": \"x\", \"ylabel\": \"y\"}\n",
    "        )\n",
    "        im = ax.imshow(\n",
    "            sol[i_t, i, :, :],\n",
    "            # cmap=cmaps[i],\n",
    "            # vmin=np.max(np.min(sol[i_t, i] - 10), 0),\n",
    "            extent=[0, 1, 0, 1],\n",
    "            origin=\"lower\",\n",
    "        )\n",
    "        fig.suptitle(rf\"{titles[i]} at time {t[i_t]:.3f}\")\n",
    "        fig.colorbar(im)\n",
    "        fig.tight_layout()\n",
    "        fig.savefig(f\"./Images/plot-i_t={i_t}-{i}.pdf\")\n",
    "        plt.close()\n",
    "    return None"
   ]
  },
  {
   "cell_type": "markdown",
   "metadata": {},
   "source": [
    "## Test problem"
   ]
  },
  {
   "cell_type": "code",
   "execution_count": 47,
   "metadata": {},
   "outputs": [],
   "source": [
    "N = 100\n",
    "M = 10_000\n",
    "a = 10\n",
    "\n",
    "x_grid, y_grid = np.meshgrid(np.linspace(0, 1, N), np.linspace(0, 1, N))\n",
    "\n",
    "S_0 = np.exp(-a / 2 * ((x_grid - 0.5)**2 / a + (y_grid - 0.25) ** 2))\n",
    "I_0 = np.exp(-a / 2 * ((x_grid - 0.75) ** 2 + (y_grid - 0.75) ** 2))\n",
    "R_0 = np.zeros((N, N))\n",
    "\n",
    "\n",
    "total_num_people = np.sum(S_0 + I_0 + R_0)\n",
    "\n",
    "S_0 /= total_num_people\n",
    "I_0 /= total_num_people\n",
    "R_0 /= total_num_people\n",
    "\n",
    "x_grid, y_grid = np.meshgrid(np.linspace(0, 1, N+2), np.linspace(0, 1, N+2))\n",
    "beta = 100_000*np.exp(-a / 2 * ((x_grid - 0.25) ** 2 + (y_grid - 0.5)**2 / a))\n",
    "gamma = 1\n",
    "mu_I = 1e-1\n",
    "mu_S = 1e-1"
   ]
  },
  {
   "cell_type": "code",
   "execution_count": 48,
   "metadata": {},
   "outputs": [],
   "source": [
    "u, t = SIR.solve(1, 1, N, M, S_0, I_0, R_0, beta, gamma, mu_I, mu_S)"
   ]
  },
  {
   "cell_type": "code",
   "execution_count": 107,
   "metadata": {},
   "outputs": [],
   "source": [
    "x_grid, y_grid = np.meshgrid(np.linspace(0, 1, N + 4), np.linspace(0, 1, N + 4))\n",
    "plot_state_3(x_grid, y_grid, u, t, 500)"
   ]
  },
  {
   "cell_type": "code",
   "execution_count": 108,
   "metadata": {},
   "outputs": [],
   "source": [
    "x_grid, y_grid = np.meshgrid(np.linspace(0, 1, N + 4), np.linspace(0, 1, N + 4))\n",
    "plot_state_3(x_grid, y_grid, u, t, 0, save=True)\n",
    "plot_state_3(x_grid, y_grid, u, t, 100, save=True)\n",
    "plot_state_3(x_grid, y_grid, u, t, 500, save=True)\n",
    "plot_state_3(x_grid, y_grid, u, t, 1000, save=True)\n",
    "plot_state_3(x_grid, y_grid, u, t, 2000, save=True)\n",
    "plot_state_3(x_grid, y_grid, u, t, 3000, save=True)\n",
    "plot_state_3(x_grid, y_grid, u, t, 4000, save=True)\n",
    "plot_state_3(x_grid, y_grid, u, t, 5000, save=True)\n",
    "plot_state_3(x_grid, y_grid, u, t, 10_000, save=True)"
   ]
  },
  {
   "cell_type": "markdown",
   "metadata": {},
   "source": [
    "## Population Deviation"
   ]
  },
  {
   "cell_type": "code",
   "execution_count": 118,
   "metadata": {},
   "outputs": [],
   "source": [
    "def population_deviation(u, t) -> None:\n",
    "    initial = np.sum(u[0], axis=(0, 1, 2))\n",
    "    people = np.sum(u, axis=(1, 2, 3))\n",
    "\n",
    "    plt.plot(t, (people - initial) / initial * 100)\n",
    "    plt.xlabel(\"Time\")\n",
    "    plt.ylabel(\"Population deviation (%)\")\n",
    "    plt.grid()\n",
    "    plt.title(\"Total population deviation\")\n",
    "    plt.savefig(\"Images/pop_deviation.pdf\")\n",
    "    plt.show()"
   ]
  },
  {
   "cell_type": "code",
   "execution_count": 119,
   "metadata": {},
   "outputs": [
    {
     "data": {
      "image/png": "[encoded data removed]",
      "text/plain": [
       "<Figure size 640x480 with 1 Axes>"
      ]
     },
     "metadata": {},
     "output_type": "display_data"
    }
   ],
   "source": [
    "population_deviation(u, t)"
   ]
  }
 ],
 "metadata": {
  "kernelspec": {
   "display_name": "scientific-venv",
   "language": "python",
   "name": "python3"
  },
  "language_info": {
   "codemirror_mode": {
    "name": "ipython",
    "version": 3
   },
   "file_extension": ".py",
   "mimetype": "text/x-python",
   "name": "python",
   "nbconvert_exporter": "python",
   "pygments_lexer": "ipython3",
   "version": "3.12.4"
  }
 },
 "nbformat": 4,
 "nbformat_minor": 2
}
